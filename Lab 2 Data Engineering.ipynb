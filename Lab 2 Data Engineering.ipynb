{
 "cells": [
  {
   "cell_type": "code",
   "execution_count": 1,
   "metadata": {},
   "outputs": [],
   "source": [
    "import requests"
   ]
  },
  {
   "cell_type": "code",
   "execution_count": 2,
   "metadata": {},
   "outputs": [],
   "source": [
    "req = requests.get(\"https://en.wikipedia.org/wiki/Harvard_University\")"
   ]
  },
  {
   "cell_type": "code",
   "execution_count": 3,
   "metadata": {},
   "outputs": [],
   "source": [
    "import bs4\n",
    "from bs4 import BeautifulSoup"
   ]
  },
  {
   "cell_type": "code",
   "execution_count": 4,
   "metadata": {},
   "outputs": [],
   "source": [
    "soup = BeautifulSoup(req.text, 'html.parser')"
   ]
  },
  {
   "cell_type": "code",
   "execution_count": 5,
   "metadata": {},
   "outputs": [
    {
     "data": {
      "text/plain": [
       "[['infobox', 'vcard'],\n",
       " ['toccolours'],\n",
       " ['plainlinks', 'metadata', 'ambox', 'mbox-small-left', 'ambox-content'],\n",
       " ['multicol'],\n",
       " ['infobox'],\n",
       " ['wikitable', 'sortable', 'collapsible', 'collapsed'],\n",
       " ['wikitable', 'sortable', 'collapsible', 'collapsed'],\n",
       " ['wikitable'],\n",
       " ['nowraplinks', 'collapsible', 'collapsed', 'navbox-inner'],\n",
       " ['nowraplinks', 'navbox-subgroup'],\n",
       " ['nowraplinks', 'navbox-subgroup'],\n",
       " ['nowraplinks', 'collapsible', 'collapsed', 'navbox-inner'],\n",
       " ['nowraplinks', 'collapsible', 'autocollapse', 'navbox-inner'],\n",
       " ['nowraplinks', 'collapsible', 'autocollapse', 'navbox-inner'],\n",
       " ['nowraplinks', 'collapsible', 'autocollapse', 'navbox-inner'],\n",
       " ['nowraplinks', 'collapsible', 'autocollapse', 'navbox-inner'],\n",
       " ['nowraplinks', 'collapsible', 'autocollapse', 'navbox-inner'],\n",
       " ['nowraplinks', 'collapsible', 'autocollapse', 'navbox-inner'],\n",
       " ['nowraplinks', 'hlist', 'collapsible', 'autocollapse', 'navbox-inner'],\n",
       " ['nowraplinks', 'collapsible', 'autocollapse', 'navbox-inner'],\n",
       " ['nowraplinks', 'collapsible', 'autocollapse', 'navbox-inner'],\n",
       " ['nowraplinks', 'hlist', 'collapsible', 'autocollapse', 'navbox-inner'],\n",
       " ['nowraplinks', 'hlist', 'navbox-inner']]"
      ]
     },
     "execution_count": 5,
     "metadata": {},
     "output_type": "execute_result"
    }
   ],
   "source": [
    "[t['class'] for t in soup.find_all('table') if t.get('class')]"
   ]
  },
  {
   "cell_type": "code",
   "execution_count": 24,
   "metadata": {},
   "outputs": [],
   "source": [
    "#rows = [row for row in soup.find('table','wikitable').find_all(\"tr\")] #Not working classes were changed\n",
    "rows = ['<tr> <th></th> <th>Undergraduate</th> <th>Graduate<br/> and Professional</th> <th>U.S. Census</th> </tr>', \n",
    "        '<tr> <th>Asian/Pacific Islander</th> <td>17%</td> <td>11%</td> <td>5%</td> </tr>', \n",
    "        '<tr> <th>Black/Non-Hispanic</th> <td>6%</td> <td>4%</td> <td>12%</td> </tr>', \n",
    "        '<tr> <th>Hispanics of any race</th> <td>9%</td> <td>5%</td> <td>16%</td> </tr>', \n",
    "        '<tr> <th>White/non-Hispanic</th> <td>46%</td> <td>43%</td> <td>64%</td> </tr>', \n",
    "        '<tr> <th>Mixed Race/Other</th> <td>10%</td> <td>8%</td> <td>9%</td> </tr>', \n",
    "        '<tr> <th>International students</th> <td>11%</td> <td>27%</td> <td>N/A</td> </tr>']"
   ]
  },
  {
   "cell_type": "code",
   "execution_count": 25,
   "metadata": {},
   "outputs": [
    {
     "data": {
      "text/plain": [
       "['<tr> <th></th> <th>Undergraduate</th> <th>Graduate<br/> and Professional</th> <th>U.S. Census</th> </tr>',\n",
       " '<tr> <th>Asian/Pacific Islander</th> <td>17%</td> <td>11%</td> <td>5%</td> </tr>',\n",
       " '<tr> <th>Black/Non-Hispanic</th> <td>6%</td> <td>4%</td> <td>12%</td> </tr>',\n",
       " '<tr> <th>Hispanics of any race</th> <td>9%</td> <td>5%</td> <td>16%</td> </tr>',\n",
       " '<tr> <th>White/non-Hispanic</th> <td>46%</td> <td>43%</td> <td>64%</td> </tr>',\n",
       " '<tr> <th>Mixed Race/Other</th> <td>10%</td> <td>8%</td> <td>9%</td> </tr>',\n",
       " '<tr> <th>International students</th> <td>11%</td> <td>27%</td> <td>N/A</td> </tr>']"
      ]
     },
     "execution_count": 25,
     "metadata": {},
     "output_type": "execute_result"
    }
   ],
   "source": [
    "rows"
   ]
  },
  {
   "cell_type": "code",
   "execution_count": 26,
   "metadata": {},
   "outputs": [],
   "source": [
    "rem_nl = lambda s: s.replace(\"\\n\", \" \")"
   ]
  },
  {
   "cell_type": "code",
   "execution_count": null,
   "metadata": {},
   "outputs": [],
   "source": []
  }
 ],
 "metadata": {
  "kernelspec": {
   "display_name": "Python 3",
   "language": "python",
   "name": "python3"
  },
  "language_info": {
   "codemirror_mode": {
    "name": "ipython",
    "version": 3
   },
   "file_extension": ".py",
   "mimetype": "text/x-python",
   "name": "python",
   "nbconvert_exporter": "python",
   "pygments_lexer": "ipython3",
   "version": "3.6.4"
  }
 },
 "nbformat": 4,
 "nbformat_minor": 2
}
